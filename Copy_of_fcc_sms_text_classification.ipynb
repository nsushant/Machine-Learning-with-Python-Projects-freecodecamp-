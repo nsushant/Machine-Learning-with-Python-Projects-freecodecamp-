{
  "nbformat": 4,
  "nbformat_minor": 0,
  "metadata": {
    "colab": {
      "name": "Copy of fcc_sms_text_classification.ipynb",
      "private_outputs": true,
      "provenance": [],
      "collapsed_sections": [],
      "toc_visible": true
    },
    "kernelspec": {
      "display_name": "Python 3",
      "name": "python3"
    }
  },
  "cells": [
    {
      "cell_type": "markdown",
      "metadata": {
        "id": "Eg62Pmz3o83v"
      },
      "source": [
        "*Note: You are currently reading this using Google Colaboratory which is a cloud-hosted version of Jupyter Notebook. This is a document containing both text cells for documentation and runnable code cells. If you are unfamiliar with Jupyter Notebook, watch this 3-minute introduction before starting this challenge: https://www.youtube.com/watch?v=inN8seMm7UI*\n",
        "\n",
        "---\n",
        "\n",
        "In this challenge, you need to create a machine learning model that will classify SMS messages as either \"ham\" or \"spam\". A \"ham\" message is a normal message sent by a friend. A \"spam\" message is an advertisement or a message sent by a company.\n",
        "\n",
        "You should create a function called `predict_message` that takes a message string as an argument and returns a list. The first element in the list should be a number between zero and one that indicates the likeliness of \"ham\" (0) or \"spam\" (1). The second element in the list should be the word \"ham\" or \"spam\", depending on which is most likely.\n",
        "\n",
        "For this challenge, you will use the [SMS Spam Collection dataset](http://www.dt.fee.unicamp.br/~tiago/smsspamcollection/). The dataset has already been grouped into train data and test data.\n",
        "\n",
        "The first two cells import the libraries and data. The final cell tests your model and function. Add your code in between these cells.\n"
      ]
    },
    {
      "cell_type": "code",
      "metadata": {
        "id": "8RZOuS9LWQvv"
      },
      "source": [
        "# import libraries\n",
        "try:\n",
        "  # %tensorflow_version only exists in Colab.\n",
        "  !pip install tf-nightly\n",
        "except Exception:\n",
        "  pass\n",
        "import tensorflow as tf\n",
        "import pandas as pd\n",
        "from tensorflow import keras\n",
        "!pip install tensorflow-datasets\n",
        "import tensorflow_datasets as tfds\n",
        "import numpy as np\n",
        "import matplotlib.pyplot as plt\n",
        "\n",
        "print(tf.__version__)"
      ],
      "execution_count": null,
      "outputs": []
    },
    {
      "cell_type": "code",
      "metadata": {
        "id": "lMHwYXHXCar3"
      },
      "source": [
        "# get data files\n",
        "!wget https://cdn.freecodecamp.org/project-data/sms/train-data.tsv\n",
        "!wget https://cdn.freecodecamp.org/project-data/sms/valid-data.tsv\n",
        "\n",
        "train_file_path = \"train-data.tsv\"\n",
        "test_file_path = \"valid-data.tsv\""
      ],
      "execution_count": null,
      "outputs": []
    },
    {
      "cell_type": "code",
      "metadata": {
        "id": "g_h508FEClxO"
      },
      "source": [
        "#extract data from the respective tsv files. \r\n",
        "\r\n",
        "train_data = pd.read_csv(train_file_path,sep='\\t')\r\n",
        "\r\n",
        "test_data = pd.read_csv(test_file_path,sep='\\t')"
      ],
      "execution_count": null,
      "outputs": []
    },
    {
      "cell_type": "code",
      "metadata": {
        "id": "zOMKywn4zReN"
      },
      "source": [
        "#separate data into messages and labels.\r\n",
        "\r\n",
        "#messages from the dataset.\r\n",
        "train_messages = train_data['ahhhh...just woken up!had a bad dream about u tho,so i dont like u right now :) i didnt know anything about comedy night but i guess im up for it.']\r\n",
        "test_messages = test_data['i am in hospital da. . i will return home in evening']\r\n",
        "\r\n",
        "#labels from the data set.\r\n",
        "train_labels = train_data['ham']\r\n",
        "test_labels =  test_data['ham']"
      ],
      "execution_count": null,
      "outputs": []
    },
    {
      "cell_type": "code",
      "metadata": {
        "id": "kvOl2lTFCgeL"
      },
      "source": [
        "#https://stackoverflow.com/questions/57030670/how-to-remove-punctuation-and-numbers-during-tweettokenizer-step-in-nlp\r\n",
        "import regex as re\r\n",
        "import string\r\n",
        "def clean_text(text):\r\n",
        "    #remove html tags\r\n",
        "    p = re.compile(r'<[\\w+#]>')\r\n",
        "    p= p.sub('', text)\r\n",
        "    # remove numbers\r\n",
        "    text_nonum = re.sub(r'\\d+', '', p)\r\n",
        "    # remove punctuations and convert characters to lower case\r\n",
        "    text_nopunct = \"\".join([char.lower() for char in text_nonum if char not in string.punctuation]) \r\n",
        "    #remove websites\r\n",
        "    remove_urls = re.sub('http[s]?://\\S+', '', text_nopunct)\r\n",
        "    # substitute multiple whitespace with single whitespace\r\n",
        "    return remove_urls\r\n"
      ],
      "execution_count": null,
      "outputs": []
    },
    {
      "cell_type": "code",
      "metadata": {
        "id": "ffS7Z2FDCy4n"
      },
      "source": [
        "#clean and remove uneeded chars from sentences\r\n",
        "cleaned_train = [clean_text(sent) for sent in train_messages]\r\n",
        "cleaned_test = [clean_text(sent) for sent in test_messages]"
      ],
      "execution_count": null,
      "outputs": []
    },
    {
      "cell_type": "code",
      "metadata": {
        "id": "uTYsNunTSDh-"
      },
      "source": [
        "#using the nnlm-en-dim50nnlm-en-dim50 layer\r\n",
        "import tensorflow_hub as hub\r\n",
        "embedding = \"https://tfhub.dev/google/nnlm-en-dim50/2\"\r\n",
        "hub_layer = hub.KerasLayer(embedding, input_shape=[], \r\n",
        "                           dtype=tf.string, trainable=True)\r\n",
        "hub_layer(cleaned_train)"
      ],
      "execution_count": null,
      "outputs": []
    },
    {
      "cell_type": "code",
      "metadata": {
        "id": "3VpsTRzgEHik"
      },
      "source": [
        "#vectorize labels\r\n",
        "dict_labels = {'ham':0,'spam':1}\r\n",
        "labels_train = [dict_labels[label] for label in train_labels]\r\n",
        "labels_test = [dict_labels[label] for label in test_labels]"
      ],
      "execution_count": null,
      "outputs": []
    },
    {
      "cell_type": "code",
      "metadata": {
        "id": "0to4Seh3PyN2"
      },
      "source": [
        "#ref tensorflow docs\r\n",
        "#build model\r\n",
        "model = tf.keras.Sequential()\r\n",
        "model.add(hub_layer)\r\n",
        "model.add(tf.keras.layers.Dense(16, activation='relu'))\r\n",
        "model.add(tf.keras.layers.Dense(1))\r\n",
        "model.add(tf.keras.layers.Activation('sigmoid'))\r\n",
        "model.summary()"
      ],
      "execution_count": null,
      "outputs": []
    },
    {
      "cell_type": "code",
      "metadata": {
        "id": "cLj_Bk1HVafi"
      },
      "source": [
        "model.compile(optimizer='adam',\r\n",
        "              loss=tf.keras.losses.BinaryCrossentropy(from_logits=True),\r\n",
        "              metrics=['accuracy'])"
      ],
      "execution_count": null,
      "outputs": []
    },
    {
      "cell_type": "code",
      "metadata": {
        "id": "fj-k5tw6XlYG"
      },
      "source": [
        "#convert data to tensors\r\n",
        "train_messages = tf.convert_to_tensor(train_messages)\r\n",
        "test_messages = tf.convert_to_tensor(test_messages)"
      ],
      "execution_count": null,
      "outputs": []
    },
    {
      "cell_type": "code",
      "metadata": {
        "id": "f6KC3sxoVg1O"
      },
      "source": [
        "#convert labels to tensors\r\n",
        "train_labels = tf.convert_to_tensor(labels_train)\r\n",
        "test_labels = tf.convert_to_tensor(labels_test)"
      ],
      "execution_count": null,
      "outputs": []
    },
    {
      "cell_type": "code",
      "metadata": {
        "id": "1as7w36iaPlI"
      },
      "source": [
        "#fit model to data\r\n",
        "history = model.fit(train_messages,train_labels,batch_size=100,epochs=10,verbose=1,validation_data=(train_messages,train_labels),) "
      ],
      "execution_count": null,
      "outputs": []
    },
    {
      "cell_type": "code",
      "metadata": {
        "id": "J9tD9yACG6M9"
      },
      "source": [
        "# function to predict messages based on model\n",
        "# (should return list containing prediction and label, ex. [0.008318834938108921, 'ham'])\n",
        "def predict_message(pred_text):\n",
        "  pred = [pred_text]\n",
        "  prediction = model.predict(pred)[0][0]\n",
        "  label = ''\n",
        "  if prediction > 0.002:\n",
        "    label = 'spam'\n",
        "\n",
        "  else:\n",
        "    label = 'ham'\n",
        "\n",
        "  return ([prediction,label])\n"
      ],
      "execution_count": null,
      "outputs": []
    },
    {
      "cell_type": "code",
      "metadata": {
        "id": "Dxotov85SjsC"
      },
      "source": [
        "# Run this cell to test your function and model. Do not modify contents.\n",
        "def test_predictions():\n",
        "  test_messages = [\"how are you doing today\",\n",
        "                   \"sale today! to stop texts call 98912460324\",\n",
        "                   \"i dont want to go. can we try it a different day? available sat\",\n",
        "                   \"our new mobile video service is live. just install on your phone to start watching.\",\n",
        "                   \"you have won £1000 cash! call to claim your prize.\",\n",
        "                   \"i'll bring it tomorrow. don't forget the milk.\",\n",
        "                   \"wow, is your arm alright. that happened to me one time too\"\n",
        "                  ]\n",
        "\n",
        "  test_answers = [\"ham\", \"spam\", \"ham\", \"spam\", \"spam\", \"ham\", \"ham\"]\n",
        "  passed = True\n",
        "\n",
        "  for msg, ans in zip(test_messages, test_answers):\n",
        "    prediction = predict_message(msg)\n",
        "    if prediction[1] != ans:\n",
        "      passed = False\n",
        "\n",
        "  if passed:\n",
        "    print(\"You passed the challenge. Great job!\")\n",
        "  else:\n",
        "    print(\"You haven't passed yet. Keep trying.\")\n",
        "\n",
        "test_predictions()\n"
      ],
      "execution_count": null,
      "outputs": []
    }
  ]
}